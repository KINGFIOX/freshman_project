{
 "cells": [
  {
   "cell_type": "code",
   "execution_count": 6,
   "metadata": {},
   "outputs": [],
   "source": [
    "# !export https_proxy=http://127.0.0.1:7890 http_proxy=http://127.0.0.1:7890 all_proxy=socks5://127.0.0.1:7890\n",
    "# %pip install pandas\n",
    "# %pip install pymysql"
   ]
  },
  {
   "cell_type": "code",
   "execution_count": 45,
   "metadata": {},
   "outputs": [],
   "source": [
    "from flask import Flask\n",
    "from flask_sqlalchemy import SQLAlchemy\n",
    "import pandas as pd\n",
    "from datetime import datetime\n",
    "\n",
    "import pymysql\n",
    "pymysql.install_as_MySQLdb()"
   ]
  },
  {
   "cell_type": "code",
   "execution_count": 46,
   "metadata": {},
   "outputs": [],
   "source": [
    "# 配置\n",
    "HOSTNAME = \"127.0.0.1\"\n",
    "PORT = \"3306\"\n",
    "USERNAME = \"root\"\n",
    "PASSWORD = \"wangjin\"\n",
    "DATABASE = \"notice\""
   ]
  },
  {
   "cell_type": "code",
   "execution_count": 47,
   "metadata": {},
   "outputs": [],
   "source": [
    "app = Flask(__name__)\n",
    "# 使用连接信息进行替换\n",
    "app.config['SQLALCHEMY_DATABASE_URI'] = f\"mysql+pymysql://{USERNAME}:{PASSWORD}@{HOSTNAME}:{PORT}/{DATABASE}?charset=utf8mb4\"\n",
    "db = SQLAlchemy(app)"
   ]
  },
  {
   "cell_type": "code",
   "execution_count": 48,
   "metadata": {},
   "outputs": [
    {
     "name": "stdout",
     "output_type": "stream",
     "text": [
      "(1,)\n"
     ]
    }
   ],
   "source": [
    "import sqlalchemy\n",
    "# 检查数据库是否链接成功\n",
    "with app.app_context():\n",
    "    with db.engine.connect() as conn:\n",
    "        rs = conn.execute(sqlalchemy.text(\"select 1\"))\n",
    "        print(rs.fetchone())  # 链接成功，返回(1,)\n"
   ]
  },
  {
   "cell_type": "code",
   "execution_count": 49,
   "metadata": {},
   "outputs": [],
   "source": [
    "# NotificationModel定义\n",
    "class NotificationModel(db.Model):\n",
    "    __tablename__ = \"notification_data\"\n",
    "    \n",
    "    id = db.Column(db.Integer, primary_key=True, autoincrement=True)\n",
    "    title = db.Column(db.String(200), nullable=False)\n",
    "    content = db.Column(db.Text, nullable=False)\n",
    "    # 提取日期\n",
    "    date = db.Column(db.DateTime, nullable=True)\n",
    "    # 摘要\n",
    "    summary = db.Column(db.Text, nullable=True)\n",
    "    creator_id = db.Column(db.Integer)\n",
    "    created_date = db.Column(db.DateTime, default=datetime.now)\n",
    "\n",
    "with app.app_context():\n",
    "    db.create_all()  # 创建表"
   ]
  },
  {
   "cell_type": "code",
   "execution_count": 50,
   "metadata": {},
   "outputs": [],
   "source": [
    "# 导入表\n",
    "def load_csv_into_db(filename):\n",
    "    # 读取CSV\n",
    "    df = pd.read_csv(filename)\n",
    "    with app.app_context():\n",
    "        # 遍历每一行并插入到数据库中\n",
    "        for _, row in df.iterrows():\n",
    "            # 解析日期\n",
    "            date_str = row['日期']\n",
    "            # 提取日期\n",
    "            if isinstance(date_str, str):\n",
    "                date = datetime.strptime(date_str, \"%Y年%m月%d日\") if \"年\" in date_str else pd.to_datetime(date_str)\n",
    "            else:\n",
    "                date = None  # 或者设置为其他默认值\n",
    "            \n",
    "            notification = NotificationModel(\n",
    "                title=row['类别'],\n",
    "                content=row['通知内容'],\n",
    "                date=date,\n",
    "                summary=row['概括内容'],\n",
    "                creator_id=1\n",
    "            )\n",
    "            db.session.add(notification)\n",
    "        db.session.commit()\n",
    "\n",
    "# 加载CSV到数据库\n",
    "load_csv_into_db(\"./dates_combined_data_summarized.csv\")"
   ]
  },
  {
   "cell_type": "code",
   "execution_count": null,
   "metadata": {},
   "outputs": [],
   "source": []
  }
 ],
 "metadata": {
  "kernelspec": {
   "display_name": "bert",
   "language": "python",
   "name": "python3"
  },
  "language_info": {
   "codemirror_mode": {
    "name": "ipython",
    "version": 3
   },
   "file_extension": ".py",
   "mimetype": "text/x-python",
   "name": "python",
   "nbconvert_exporter": "python",
   "pygments_lexer": "ipython3",
   "version": "3.11.5"
  },
  "orig_nbformat": 4
 },
 "nbformat": 4,
 "nbformat_minor": 2
}
