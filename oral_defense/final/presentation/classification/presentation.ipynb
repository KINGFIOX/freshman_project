{
 "cells": [
  {
   "cell_type": "code",
   "execution_count": 11,
   "metadata": {},
   "outputs": [],
   "source": [
    "from transformers import BertForSequenceClassification\n",
    "from transformers import BertTokenizer\n",
    "import torch\n",
    "from datasets import load_dataset, Features, Value"
   ]
  },
  {
   "cell_type": "markdown",
   "metadata": {},
   "source": [
    "# 测试预训练模型"
   ]
  },
  {
   "cell_type": "code",
   "execution_count": 2,
   "metadata": {},
   "outputs": [
    {
     "name": "stdout",
     "output_type": "stream",
     "text": [
      "tensor([[0.0645, 0.9355]], grad_fn=<SoftmaxBackward0>)\n"
     ]
    }
   ],
   "source": [
    "model_name = \"IDEA-CCNL/Erlangshen-Roberta-110M-Sentiment\"\n",
    "tokenizer = BertTokenizer.from_pretrained(model_name)\n",
    "model = BertForSequenceClassification.from_pretrained(model_name)  # 预训练模型\n",
    "texta = \"鲸鱼是哺乳动物，所有哺乳动物都是恒温动物\"\n",
    "textb = \"鲸鱼也是恒温动物\"\n",
    "output = model(torch.tensor([tokenizer.encode(texta, textb)]))\n",
    "print(torch.nn.functional.softmax(output.logits, dim=-1))  # 测试一下"
   ]
  },
  {
   "cell_type": "markdown",
   "metadata": {},
   "source": [
    "# 数据预处理"
   ]
  },
  {
   "cell_type": "code",
   "execution_count": 3,
   "metadata": {},
   "outputs": [
    {
     "name": "stdout",
     "output_type": "stream",
     "text": [
      "{0: '升学', 1: '志愿', 2: '教务', 3: '思政', 4: '心理', 5: '灾害', 6: '作业与考试', 7: '竞赛与机会', 8: '企业参观与就业', 9: '生活', 10: '重要通知', 11: '垃圾与乐子'}\n"
     ]
    }
   ],
   "source": [
    "label_to_id = {  # 分类\n",
    "    \"升学\": 0,\n",
    "    \"志愿\": 1,\n",
    "    \"教务\": 2,\n",
    "    \"思政\": 3,\n",
    "    \"心理\": 4,\n",
    "    \"灾害\": 5,\n",
    "    \"作业与考试\": 6,\n",
    "    \"竞赛与机会\": 7,\n",
    "    \"企业参观与就业\": 8,\n",
    "    \"生活\": 9,\n",
    "    \"重要通知\": 10,\n",
    "    \"垃圾与乐子\": 11,\n",
    "}\n",
    "\n",
    "# 将label_to_id进行反转\n",
    "id_to_label = {value: key for key, value in label_to_id.items()}\n",
    "print(id_to_label)"
   ]
  },
  {
   "cell_type": "code",
   "execution_count": 4,
   "metadata": {},
   "outputs": [
    {
     "name": "stderr",
     "output_type": "stream",
     "text": [
      "Found cached dataset csv (/Users/wangfiox/.cache/huggingface/datasets/csv/default-5873a662a0c59a4b/0.0.0/6954658bab30a358235fa864b05cf819af0e179325c740e4bc853bcc7ec513e1)\n"
     ]
    },
    {
     "data": {
      "application/vnd.jupyter.widget-view+json": {
       "model_id": "0001d0ebe7c84f0fa8544fafc5d36dda",
       "version_major": 2,
       "version_minor": 0
      },
      "text/plain": [
       "  0%|          | 0/1 [00:00<?, ?it/s]"
      ]
     },
     "metadata": {},
     "output_type": "display_data"
    },
    {
     "name": "stdout",
     "output_type": "stream",
     "text": [
      "DatasetDict({\n",
      "    train: Dataset({\n",
      "        features: ['类别', '通知内容'],\n",
      "        num_rows: 307\n",
      "    })\n",
      "})\n"
     ]
    }
   ],
   "source": [
    "# 明确地定义CSV数据的特征描述\n",
    "features = Features({\"类别\": Value(\"string\"), \"通知内容\": Value(\"string\")})\n",
    "\n",
    "# 使用提供的特征描述加载数据集\n",
    "dataset = load_dataset(\"csv\", data_files=\"../data/combined_data.csv\", features=features)\n",
    "\n",
    "# 预览数据集\n",
    "print(dataset)"
   ]
  },
  {
   "cell_type": "code",
   "execution_count": 5,
   "metadata": {},
   "outputs": [
    {
     "name": "stderr",
     "output_type": "stream",
     "text": [
      "Loading cached processed dataset at /Users/wangfiox/.cache/huggingface/datasets/csv/default-5873a662a0c59a4b/0.0.0/6954658bab30a358235fa864b05cf819af0e179325c740e4bc853bcc7ec513e1/cache-6887013febe0af5a.arrow\n"
     ]
    },
    {
     "name": "stdout",
     "output_type": "stream",
     "text": [
      "Dataset({\n",
      "    features: ['类别', '通知内容', 'input_ids', 'token_type_ids', 'attention_mask', 'labels'],\n",
      "    num_rows: 291\n",
      "}) Dataset({\n",
      "    features: ['类别', '通知内容', 'input_ids', 'token_type_ids', 'attention_mask', 'labels'],\n",
      "    num_rows: 16\n",
      "})\n"
     ]
    }
   ],
   "source": [
    "def preprocess_function(batch):\n",
    "    # 对通知内容进行分词，并返回结果\n",
    "    encoding = tokenizer(\n",
    "        batch[\"通知内容\"], truncation=True, padding=\"max_length\", max_length=128\n",
    "    )  # 分词，截断，填充\n",
    "    encoding[\"labels\"] = [\n",
    "        label_to_id[label] for label in batch[\"类别\"]\n",
    "    ]  # 使用label_to_id将类别名转换为ID\n",
    "    return encoding\n",
    "\n",
    "\n",
    "# 使用map函数进行预处理\n",
    "encoded_dataset = (\n",
    "    dataset[\"train\"]\n",
    "    .map(preprocess_function, batched=True)\n",
    "    .train_test_split(test_size=0.05)\n",
    ")\n",
    "\n",
    "train_dataset = encoded_dataset[\"train\"]\n",
    "test_dataset = encoded_dataset[\"test\"]\n",
    "print(train_dataset, test_dataset)"
   ]
  },
  {
   "cell_type": "markdown",
   "metadata": {},
   "source": [
    "# 修改输出层"
   ]
  },
  {
   "cell_type": "code",
   "execution_count": 6,
   "metadata": {},
   "outputs": [
    {
     "name": "stderr",
     "output_type": "stream",
     "text": [
      "Some weights of BertForSequenceClassification were not initialized from the model checkpoint at IDEA-CCNL/Erlangshen-Roberta-110M-Sentiment and are newly initialized because the shapes did not match:\n",
      "- classifier.weight: found shape torch.Size([2, 768]) in the checkpoint and torch.Size([12, 768]) in the model instantiated\n",
      "- classifier.bias: found shape torch.Size([2]) in the checkpoint and torch.Size([12]) in the model instantiated\n",
      "You should probably TRAIN this model on a down-stream task to be able to use it for predictions and inference.\n"
     ]
    },
    {
     "name": "stdout",
     "output_type": "stream",
     "text": [
      "Linear(in_features=768, out_features=12, bias=True)\n"
     ]
    }
   ],
   "source": [
    "# 修改模型输出\n",
    "num_labels = len(label_to_id)\n",
    "model = BertForSequenceClassification.from_pretrained(\n",
    "    model_name, num_labels=num_labels, ignore_mismatched_sizes=True\n",
    ")\n",
    "\n",
    "# 打印模型的最后一层，验证是12分类\n",
    "print(model.classifier)"
   ]
  },
  {
   "cell_type": "markdown",
   "metadata": {},
   "source": [
    "# 激动人心的trainer.train()"
   ]
  },
  {
   "cell_type": "code",
   "execution_count": 15,
   "metadata": {},
   "outputs": [
    {
     "data": {
      "application/vnd.jupyter.widget-view+json": {
       "model_id": "654f30b434db4048b48fd41b81b07876",
       "version_major": 2,
       "version_minor": 0
      },
      "text/plain": [
       "  0%|          | 0/15 [00:00<?, ?it/s]"
      ]
     },
     "metadata": {},
     "output_type": "display_data"
    },
    {
     "data": {
      "application/vnd.jupyter.widget-view+json": {
       "model_id": "0be9940d7acd4ea9a84050d9155a5f40",
       "version_major": 2,
       "version_minor": 0
      },
      "text/plain": [
       "  0%|          | 0/1 [00:00<?, ?it/s]"
      ]
     },
     "metadata": {},
     "output_type": "display_data"
    },
    {
     "name": "stdout",
     "output_type": "stream",
     "text": [
      "{'eval_loss': 1.224534034729004, 'eval_accuracy': {'accuracy': 0.6875}, 'eval_runtime': 1.9915, 'eval_samples_per_second': 8.034, 'eval_steps_per_second': 0.502, 'epoch': 2.0}\n",
      "{'train_runtime': 29.7401, 'train_samples_per_second': 29.354, 'train_steps_per_second': 0.504, 'train_loss': 0.5012121518452962, 'epoch': 3.0}\n"
     ]
    },
    {
     "data": {
      "text/plain": [
       "TrainOutput(global_step=15, training_loss=0.5012121518452962, metrics={'train_runtime': 29.7401, 'train_samples_per_second': 29.354, 'train_steps_per_second': 0.504, 'train_loss': 0.5012121518452962, 'epoch': 3.0})"
      ]
     },
     "execution_count": 15,
     "metadata": {},
     "output_type": "execute_result"
    }
   ],
   "source": [
    "from transformers import Trainer, TrainingArguments\n",
    "import evaluate\n",
    "\n",
    "# 定义评估函数\n",
    "def compute_metrics(pred):\n",
    "    labels = pred.label_ids\n",
    "    preds = pred.predictions.argmax(-1)\n",
    "    acc = evaluate.load(\"accuracy\").compute(predictions=preds, references=labels)\n",
    "    return {\"accuracy\": acc}\n",
    "\n",
    "\n",
    "# 定义训练参数\n",
    "training_args = TrainingArguments(\n",
    "    output_dir=\"./results\",\n",
    "    evaluation_strategy=\"steps\",\n",
    "    eval_steps=10,\n",
    "    per_device_train_batch_size=64,\n",
    "    per_device_eval_batch_size=128,\n",
    "    num_train_epochs=3,\n",
    "    save_steps=50,\n",
    "    logging_steps=20,\n",
    "    learning_rate=2e-5,\n",
    "    weight_decay=0.01,\n",
    "    logging_dir=\"./logs\",\n",
    "    load_best_model_at_end=True,\n",
    ")\n",
    "\n",
    "# 创建Trainer对象\n",
    "trainer = Trainer(\n",
    "    model=model,\n",
    "    args=training_args,\n",
    "    train_dataset=train_dataset,\n",
    "    eval_dataset=test_dataset,\n",
    "    compute_metrics=compute_metrics,\n",
    ")\n",
    "\n",
    "\n",
    "# 开始训练\n",
    "trainer.train()"
   ]
  },
  {
   "cell_type": "code",
   "execution_count": null,
   "metadata": {},
   "outputs": [],
   "source": []
  },
  {
   "cell_type": "code",
   "execution_count": null,
   "metadata": {},
   "outputs": [],
   "source": []
  }
 ],
 "metadata": {
  "kernelspec": {
   "display_name": "base",
   "language": "python",
   "name": "python3"
  },
  "language_info": {
   "codemirror_mode": {
    "name": "ipython",
    "version": 3
   },
   "file_extension": ".py",
   "mimetype": "text/x-python",
   "name": "python",
   "nbconvert_exporter": "python",
   "pygments_lexer": "ipython3",
   "version": "3.11.5"
  }
 },
 "nbformat": 4,
 "nbformat_minor": 2
}
