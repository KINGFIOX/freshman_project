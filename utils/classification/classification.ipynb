{
 "cells": [
  {
   "cell_type": "code",
   "execution_count": 1,
   "metadata": {
    "ExecuteTime": {
     "end_time": "2023-09-29T04:37:49.661437Z",
     "start_time": "2023-09-29T04:37:49.649479Z"
    },
    "collapsed": false
   },
   "outputs": [],
   "source": [
    "# %pip install datasets\n",
    "# %pip install accelerate -U"
   ]
  },
  {
   "cell_type": "markdown",
   "metadata": {},
   "source": [
    "# 文本分类"
   ]
  },
  {
   "cell_type": "code",
   "execution_count": 2,
   "metadata": {
    "ExecuteTime": {
     "end_time": "2023-09-29T04:37:51.021199Z",
     "start_time": "2023-09-29T04:37:49.654607Z"
    }
   },
   "outputs": [],
   "source": [
    "from transformers import BertForSequenceClassification\n",
    "from transformers import BertTokenizer\n",
    "import torch"
   ]
  },
  {
   "cell_type": "code",
   "execution_count": 3,
   "metadata": {
    "ExecuteTime": {
     "end_time": "2023-09-29T04:37:52.740629Z",
     "start_time": "2023-09-29T04:37:52.605693Z"
    }
   },
   "outputs": [],
   "source": [
    "# !source /etc/network_turbo"
   ]
  },
  {
   "cell_type": "code",
   "execution_count": 4,
   "metadata": {
    "ExecuteTime": {
     "end_time": "2023-09-29T04:40:05.431607Z",
     "start_time": "2023-09-29T04:40:04.092878Z"
    }
   },
   "outputs": [],
   "source": [
    "model_name = \"IDEA-CCNL/Erlangshen-Roberta-110M-Sentiment\"\n",
    "tokenizer = BertTokenizer.from_pretrained(model_name)\n",
    "model = BertForSequenceClassification.from_pretrained(model_name)  # 预训练模型"
   ]
  },
  {
   "cell_type": "code",
   "execution_count": 5,
   "metadata": {
    "ExecuteTime": {
     "end_time": "2023-09-29T04:40:07.219345Z",
     "start_time": "2023-09-29T04:40:07.130504Z"
    }
   },
   "outputs": [
    {
     "name": "stdout",
     "output_type": "stream",
     "text": [
      "tensor([[0.0645, 0.9355]], grad_fn=<SoftmaxBackward0>)\n"
     ]
    }
   ],
   "source": [
    "texta = \"鲸鱼是哺乳动物，所有哺乳动物都是恒温动物\"\n",
    "textb = \"鲸鱼也是恒温动物\"\n",
    "output = model(torch.tensor([tokenizer.encode(texta, textb)]))\n",
    "print(torch.nn.functional.softmax(output.logits, dim=-1))  # 测试一下"
   ]
  },
  {
   "cell_type": "markdown",
   "metadata": {},
   "source": [
    "准备数据集"
   ]
  },
  {
   "cell_type": "code",
   "execution_count": 6,
   "metadata": {
    "ExecuteTime": {
     "end_time": "2023-09-29T04:40:08.954163Z",
     "start_time": "2023-09-29T04:40:08.477263Z"
    }
   },
   "outputs": [],
   "source": [
    "from datasets import load_dataset, Features, Value"
   ]
  },
  {
   "cell_type": "code",
   "execution_count": 7,
   "metadata": {
    "ExecuteTime": {
     "end_time": "2023-09-29T04:40:10.012795Z",
     "start_time": "2023-09-29T04:40:10.007254Z"
    }
   },
   "outputs": [
    {
     "name": "stdout",
     "output_type": "stream",
     "text": [
      "{0: '升学', 1: '志愿', 2: '教务', 3: '思政', 4: '心理', 5: '灾害', 6: '作业与考试', 7: '竞赛与机会', 8: '企业参观与就业', 9: '生活', 10: '重要通知', 11: '垃圾与乐子'}\n"
     ]
    }
   ],
   "source": [
    "label_to_id = {  # 分类\n",
    "    \"升学\": 0,\n",
    "    \"志愿\": 1,\n",
    "    \"教务\": 2,\n",
    "    \"思政\": 3,\n",
    "    \"心理\": 4,\n",
    "    \"灾害\": 5,\n",
    "    \"作业与考试\": 6,\n",
    "    \"竞赛与机会\": 7,\n",
    "    \"企业参观与就业\": 8,\n",
    "    \"生活\": 9,\n",
    "    \"重要通知\": 10,\n",
    "    \"垃圾与乐子\": 11,\n",
    "}\n",
    "\n",
    "# 将label_to_id进行反转\n",
    "id_to_label = {value: key for key, value in label_to_id.items()}\n",
    "print(id_to_label)"
   ]
  },
  {
   "cell_type": "code",
   "execution_count": 8,
   "metadata": {
    "ExecuteTime": {
     "end_time": "2023-09-29T04:40:12.247127Z",
     "start_time": "2023-09-29T04:40:10.853708Z"
    }
   },
   "outputs": [
    {
     "name": "stderr",
     "output_type": "stream",
     "text": [
      "Found cached dataset csv (/Users/wangfiox/.cache/huggingface/datasets/csv/default-84fa066c6a4d756c/0.0.0/6954658bab30a358235fa864b05cf819af0e179325c740e4bc853bcc7ec513e1)\n"
     ]
    },
    {
     "data": {
      "application/vnd.jupyter.widget-view+json": {
       "model_id": "311c3232c1b74191afb2cbe6c605a9ff",
       "version_major": 2,
       "version_minor": 0
      },
      "text/plain": [
       "  0%|          | 0/1 [00:00<?, ?it/s]"
      ]
     },
     "metadata": {},
     "output_type": "display_data"
    },
    {
     "name": "stdout",
     "output_type": "stream",
     "text": [
      "DatasetDict({\n",
      "    train: Dataset({\n",
      "        features: ['类别', '通知内容'],\n",
      "        num_rows: 307\n",
      "    })\n",
      "})\n"
     ]
    }
   ],
   "source": [
    "# 明确地定义CSV数据的特征描述\n",
    "features = Features({\"类别\": Value(\"string\"), \"通知内容\": Value(\"string\")})\n",
    "\n",
    "# 使用提供的特征描述加载数据集\n",
    "dataset = load_dataset(\"csv\", data_files=\"../data/combined_data.csv\", features=features)\n",
    "\n",
    "# 预览数据集\n",
    "print(dataset)"
   ]
  },
  {
   "cell_type": "code",
   "execution_count": 9,
   "metadata": {
    "ExecuteTime": {
     "end_time": "2023-09-20T16:12:49.281641Z",
     "start_time": "2023-09-20T16:12:49.194798Z"
    }
   },
   "outputs": [
    {
     "name": "stderr",
     "output_type": "stream",
     "text": [
      "Loading cached processed dataset at /Users/wangfiox/.cache/huggingface/datasets/csv/default-84fa066c6a4d756c/0.0.0/6954658bab30a358235fa864b05cf819af0e179325c740e4bc853bcc7ec513e1/cache-56da1c172dac4e4e.arrow\n"
     ]
    }
   ],
   "source": [
    "def preprocess_function(batch):\n",
    "    # 对通知内容进行分词，并返回结果\n",
    "    encoding = tokenizer(\n",
    "        batch[\"通知内容\"], truncation=True, padding=\"max_length\", max_length=128\n",
    "    )  # 分词，截断，填充\n",
    "    encoding[\"labels\"] = [\n",
    "        label_to_id[label] for label in batch[\"类别\"]\n",
    "    ]  # 使用label_to_id将类别名转换为ID\n",
    "    return encoding\n",
    "\n",
    "\n",
    "# 使用map函数进行预处理\n",
    "encoded_dataset = (\n",
    "    dataset[\"train\"]\n",
    "    .map(preprocess_function, batched=True)\n",
    "    .train_test_split(test_size=0.05)\n",
    ")\n",
    "\n",
    "train_dataset = encoded_dataset[\"train\"]\n",
    "test_dataset = encoded_dataset[\"test\"]"
   ]
  },
  {
   "cell_type": "code",
   "execution_count": 10,
   "metadata": {
    "ExecuteTime": {
     "end_time": "2023-09-20T16:12:51.807481Z",
     "start_time": "2023-09-20T16:12:51.801819Z"
    }
   },
   "outputs": [
    {
     "name": "stdout",
     "output_type": "stream",
     "text": [
      "291\n",
      "16\n",
      "{'类别': '生活', '通知内容': '【校园文化艺术系列展演（春季）活动预告】 请查收“美育新课堂·音梦更精彩”校园文化艺术系列展演（春季）活动预告，官网链接http://info.hitsz.edu.cn/content.jsp?urltype=news.NewsContentUrl&wbtreeid=1023&wbnewsid=3339[欢兔喝彩]', 'input_ids': [101, 523, 3413, 1736, 3152, 1265, 5686, 3318, 5143, 1154, 2245, 4028, 8020, 3217, 2108, 8021, 3833, 1220, 7564, 1440, 524, 6435, 3389, 3119, 100, 5401, 5509, 3173, 6440, 1828, 185, 7509, 3457, 3291, 5125, 2506, 100, 3413, 1736, 3152, 1265, 5686, 3318, 5143, 1154, 2245, 4028, 8020, 3217, 2108, 8021, 3833, 1220, 7564, 1440, 8024, 2135, 5381, 7216, 2970, 8184, 131, 120, 120, 9603, 119, 10295, 8118, 8253, 119, 9827, 119, 8274, 120, 9432, 119, 9016, 8187, 136, 8654, 11085, 134, 8501, 119, 8501, 10281, 11598, 10455, 9923, 111, 165, 10161, 11621, 8601, 134, 8667, 8152, 111, 165, 8204, 10040, 8601, 134, 10745, 8160, 138, 3614, 1052, 1600, 2506, 140, 102, 0, 0, 0, 0, 0, 0, 0, 0, 0, 0, 0, 0, 0, 0, 0, 0], 'token_type_ids': [0, 0, 0, 0, 0, 0, 0, 0, 0, 0, 0, 0, 0, 0, 0, 0, 0, 0, 0, 0, 0, 0, 0, 0, 0, 0, 0, 0, 0, 0, 0, 0, 0, 0, 0, 0, 0, 0, 0, 0, 0, 0, 0, 0, 0, 0, 0, 0, 0, 0, 0, 0, 0, 0, 0, 0, 0, 0, 0, 0, 0, 0, 0, 0, 0, 0, 0, 0, 0, 0, 0, 0, 0, 0, 0, 0, 0, 0, 0, 0, 0, 0, 0, 0, 0, 0, 0, 0, 0, 0, 0, 0, 0, 0, 0, 0, 0, 0, 0, 0, 0, 0, 0, 0, 0, 0, 0, 0, 0, 0, 0, 0, 0, 0, 0, 0, 0, 0, 0, 0, 0, 0, 0, 0, 0, 0, 0, 0], 'attention_mask': [1, 1, 1, 1, 1, 1, 1, 1, 1, 1, 1, 1, 1, 1, 1, 1, 1, 1, 1, 1, 1, 1, 1, 1, 1, 1, 1, 1, 1, 1, 1, 1, 1, 1, 1, 1, 1, 1, 1, 1, 1, 1, 1, 1, 1, 1, 1, 1, 1, 1, 1, 1, 1, 1, 1, 1, 1, 1, 1, 1, 1, 1, 1, 1, 1, 1, 1, 1, 1, 1, 1, 1, 1, 1, 1, 1, 1, 1, 1, 1, 1, 1, 1, 1, 1, 1, 1, 1, 1, 1, 1, 1, 1, 1, 1, 1, 1, 1, 1, 1, 1, 1, 1, 1, 1, 1, 1, 1, 1, 1, 1, 1, 0, 0, 0, 0, 0, 0, 0, 0, 0, 0, 0, 0, 0, 0, 0, 0], 'labels': 9}\n"
     ]
    }
   ],
   "source": [
    "# 输出训练集和测试集的大小\n",
    "print(len(train_dataset))\n",
    "print(len(test_dataset))\n",
    "\n",
    "# 打印第一个样本的内容，带换行符\n",
    "print(train_dataset[0])\n",
    "# 输出：\n",
    "# {'类别': '生活', '通知内容': '各位同学@所有人 今天晚上收到多名同学反馈在教学楼、活动中心和宿舍楼附近发现卖笔的人员，请大家不要轻信和购买，保护好自身财产安全', 'input_ids': [101, 1392, 855, 1398, 2110, 137, 2792, 3300, 782, 791, 1921, 3241, 677, 3119, 1168, 1914, 1399, 1398, 2110, 1353, 7668, 1762, 3136, 2110, 3517, 510, 3833, 1220, 704, 2552, 1469, 2162, 5650, 3517, 7353, 6818, 1355, 4385, 1297, 5011, 4638, 782, 1447, 8024, 6435, 1920, 2157, 679, 6206, 6768, 928, 1469, 6579, 743, 8024, 924, 2844, 1962, 5632, 6716, 6568, 772, 2128, 1059, 102, 0, 0, 0, 0, 0, 0, 0, 0, 0, 0, 0, 0, 0, 0, 0, 0, 0, 0, 0, 0, 0, 0, 0, 0, 0, 0, 0, 0, 0, 0, 0, 0, 0, 0, 0, 0, 0, 0, 0, 0, 0, 0, 0, 0, 0, 0, 0, 0, 0, 0, 0, 0, 0, 0, 0, 0, 0, 0, 0, 0, 0, 0, 0], 'token_type_ids': [0, 0, 0, 0, 0, 0, 0, 0, 0, 0, 0, 0, 0, 0, 0, 0, 0, 0, 0, 0, 0, 0, 0, 0, 0, 0, 0, 0, 0, 0, 0, 0, 0, 0, 0, 0, 0, 0, 0, 0, 0, 0, 0, 0, 0, 0, 0, 0, 0, 0, 0, 0, 0, 0, 0, 0, 0, 0, 0, 0, 0, 0, 0, 0, 0, 0, 0, 0, 0, 0, 0, 0, 0, 0, 0, 0, 0, 0, 0, 0, 0, 0, 0, 0, 0, 0, 0, 0, 0, 0, 0, 0, 0, 0, 0, 0, 0, 0, 0, 0, 0, 0, 0, 0, 0, 0, 0, 0, 0, 0, 0, 0, 0, 0, 0, 0, 0, 0, 0, 0, 0, 0, 0, 0, 0, 0, 0, 0], 'attention_mask': [1, 1, 1, 1, 1, 1, 1, 1, 1, 1, 1, 1, 1, 1, 1, 1, 1, 1, 1, 1, 1, 1, 1, 1, 1, 1, 1, 1, 1, 1, 1, 1, 1, 1, 1, 1, 1, 1, 1, 1, 1, 1, 1, 1, 1, 1, 1, 1, 1, 1, 1, 1, 1, 1, 1, 1, 1, 1, 1, 1, 1, 1, 1, 1, 1, 0, 0, 0, 0, 0, 0, 0, 0, 0, 0, 0, 0, 0, 0, 0, 0, 0, 0, 0, 0, 0, 0, 0, 0, 0, 0, 0, 0, 0, 0, 0, 0, 0, 0, 0, 0, 0, 0, 0, 0, 0, 0, 0, 0, 0, 0, 0, 0, 0, 0, 0, 0, 0, 0, 0, 0, 0, 0, 0, 0, 0, 0, 0], 'labels': 9}"
   ]
  },
  {
   "cell_type": "markdown",
   "metadata": {},
   "source": [
    "模型训练"
   ]
  },
  {
   "cell_type": "code",
   "execution_count": 11,
   "metadata": {
    "ExecuteTime": {
     "end_time": "2023-09-20T16:12:55.566104Z",
     "start_time": "2023-09-20T16:12:54.725490Z"
    }
   },
   "outputs": [
    {
     "name": "stderr",
     "output_type": "stream",
     "text": [
      "Some weights of BertForSequenceClassification were not initialized from the model checkpoint at IDEA-CCNL/Erlangshen-Roberta-110M-Sentiment and are newly initialized because the shapes did not match:\n",
      "- classifier.weight: found shape torch.Size([2, 768]) in the checkpoint and torch.Size([12, 768]) in the model instantiated\n",
      "- classifier.bias: found shape torch.Size([2]) in the checkpoint and torch.Size([12]) in the model instantiated\n",
      "You should probably TRAIN this model on a down-stream task to be able to use it for predictions and inference.\n"
     ]
    },
    {
     "name": "stdout",
     "output_type": "stream",
     "text": [
      "Linear(in_features=768, out_features=12, bias=True)\n"
     ]
    }
   ],
   "source": [
    "# 修改模型输出\n",
    "num_labels = len(label_to_id)\n",
    "model = BertForSequenceClassification.from_pretrained(\n",
    "    model_name, num_labels=num_labels, ignore_mismatched_sizes=True\n",
    ")\n",
    "\n",
    "# 打印模型的最后一层，验证是12分类\n",
    "print(model.classifier)"
   ]
  },
  {
   "cell_type": "code",
   "execution_count": 12,
   "metadata": {
    "ExecuteTime": {
     "end_time": "2023-09-20T16:12:58.362692Z",
     "start_time": "2023-09-20T16:12:57.907642Z"
    }
   },
   "outputs": [],
   "source": [
    "from transformers import Trainer, TrainingArguments\n",
    "\n",
    "# 定义训练参数\n",
    "training_args = TrainingArguments(\n",
    "    output_dir=\"./results\",\n",
    "    evaluation_strategy=\"steps\",\n",
    "    eval_steps=10,\n",
    "    per_device_train_batch_size=64,\n",
    "    per_device_eval_batch_size=128,\n",
    "    num_train_epochs=3,\n",
    "    save_steps=50,\n",
    "    logging_steps=20,\n",
    "    learning_rate=2e-5,\n",
    "    weight_decay=0.01,\n",
    "    logging_dir=\"./logs\",\n",
    "    load_best_model_at_end=True,\n",
    ")\n",
    "\n",
    "# 创建Trainer对象\n",
    "trainer = Trainer(\n",
    "    model=model,\n",
    "    args=training_args,\n",
    "    train_dataset=train_dataset,\n",
    "    eval_dataset=test_dataset,\n",
    "    compute_metrics=None,  # 如果你需要在验证时计算评估指标，请提供一个compute_metrics函数\n",
    ")"
   ]
  },
  {
   "cell_type": "code",
   "execution_count": 13,
   "metadata": {
    "ExecuteTime": {
     "end_time": "2023-09-20T16:14:39.653244Z",
     "start_time": "2023-09-20T16:12:59.979810Z"
    }
   },
   "outputs": [
    {
     "data": {
      "application/vnd.jupyter.widget-view+json": {
       "model_id": "732e54c603e34c3cb999136396dde6ba",
       "version_major": 2,
       "version_minor": 0
      },
      "text/plain": [
       "  0%|          | 0/15 [00:00<?, ?it/s]"
      ]
     },
     "metadata": {},
     "output_type": "display_data"
    },
    {
     "data": {
      "application/vnd.jupyter.widget-view+json": {
       "model_id": "d519f097161148e2af57fe7f2bbab776",
       "version_major": 2,
       "version_minor": 0
      },
      "text/plain": [
       "  0%|          | 0/1 [00:00<?, ?it/s]"
      ]
     },
     "metadata": {},
     "output_type": "display_data"
    },
    {
     "name": "stdout",
     "output_type": "stream",
     "text": [
      "{'eval_loss': 1.880742073059082, 'eval_runtime': 0.1532, 'eval_samples_per_second': 104.453, 'eval_steps_per_second': 6.528, 'epoch': 2.0}\n",
      "{'train_runtime': 20.2196, 'train_samples_per_second': 43.176, 'train_steps_per_second': 0.742, 'train_loss': 2.0486900329589846, 'epoch': 3.0}\n"
     ]
    },
    {
     "data": {
      "text/plain": [
       "TrainOutput(global_step=15, training_loss=2.0486900329589846, metrics={'train_runtime': 20.2196, 'train_samples_per_second': 43.176, 'train_steps_per_second': 0.742, 'train_loss': 2.0486900329589846, 'epoch': 3.0})"
      ]
     },
     "execution_count": 13,
     "metadata": {},
     "output_type": "execute_result"
    }
   ],
   "source": [
    "# 开始训练\n",
    "trainer.train()"
   ]
  },
  {
   "cell_type": "code",
   "execution_count": 31,
   "metadata": {
    "ExecuteTime": {
     "end_time": "2023-09-20T16:14:43.710978Z",
     "start_time": "2023-09-20T16:14:43.705203Z"
    }
   },
   "outputs": [
    {
     "ename": "TypeError",
     "evalue": "log_metrics() missing 2 required positional arguments: 'split' and 'metrics'",
     "output_type": "error",
     "traceback": [
      "\u001b[0;31m---------------------------------------------------------------------------\u001b[0m",
      "\u001b[0;31mTypeError\u001b[0m                                 Traceback (most recent call last)",
      "Cell \u001b[0;32mIn[31], line 2\u001b[0m\n\u001b[1;32m      1\u001b[0m \u001b[38;5;66;03m# 查看训练结果\u001b[39;00m\n\u001b[0;32m----> 2\u001b[0m trainer\u001b[38;5;241m.\u001b[39mlog_metrics()\n",
      "\u001b[0;31mTypeError\u001b[0m: log_metrics() missing 2 required positional arguments: 'split' and 'metrics'"
     ]
    }
   ],
   "source": [
    "# 查看训练结果\n",
    "trainer.log_metrics()"
   ]
  },
  {
   "cell_type": "code",
   "execution_count": 29,
   "metadata": {},
   "outputs": [
    {
     "data": {
      "application/vnd.jupyter.widget-view+json": {
       "model_id": "06cf1f86d71a4227b5068e900ccc3511",
       "version_major": 2,
       "version_minor": 0
      },
      "text/plain": [
       "  0%|          | 0/1 [00:00<?, ?it/s]"
      ]
     },
     "metadata": {},
     "output_type": "display_data"
    },
    {
     "data": {
      "text/plain": [
       "{'eval_loss': 1.8100357055664062,\n",
       " 'eval_runtime': 0.1782,\n",
       " 'eval_samples_per_second': 89.777,\n",
       " 'eval_steps_per_second': 5.611,\n",
       " 'epoch': 3.0}"
      ]
     },
     "execution_count": 29,
     "metadata": {},
     "output_type": "execute_result"
    }
   ],
   "source": [
    "trainer.evaluate()"
   ]
  },
  {
   "cell_type": "code",
   "execution_count": 25,
   "metadata": {
    "ExecuteTime": {
     "end_time": "2023-09-20T16:15:03.849110Z",
     "start_time": "2023-09-20T16:15:03.798745Z"
    }
   },
   "outputs": [
    {
     "data": {
      "image/png": "[encoded data removed]",
      "text/plain": [
       "<Figure size 640x480 with 1 Axes>"
      ]
     },
     "metadata": {},
     "output_type": "display_data"
    }
   ],
   "source": [
    "import matplotlib.pyplot as plt\n",
    "\n",
    "# 获取训练的历史\n",
    "history = trainer.state.log_history\n",
    "\n",
    "# 提取损失值\n",
    "loss_values = [entry[\"eval_loss\"] for entry in history if \"eval_loss\" in entry]\n",
    "\n",
    "# 绘制损失曲线\n",
    "plt.plot(loss_values)\n",
    "plt.title(\"Training Loss\")\n",
    "plt.xlabel(\"Logging Steps\")\n",
    "plt.ylabel(\"Loss\")\n",
    "plt.show()"
   ]
  },
  {
   "cell_type": "code",
   "execution_count": 14,
   "metadata": {
    "ExecuteTime": {
     "end_time": "2023-09-20T16:15:05.080975Z",
     "start_time": "2023-09-20T16:15:04.432845Z"
    }
   },
   "outputs": [
    {
     "name": "stdout",
     "output_type": "stream",
     "text": [
      "Model saved to ./model_20231215_103751\n"
     ]
    }
   ],
   "source": [
    "# 按日期时间保存模型\n",
    "from datetime import datetime\n",
    "\n",
    "# 获取当前日期和时间\n",
    "now = datetime.now()\n",
    "timestamp = now.strftime(\"%Y%m%d_%H%M%S\")\n",
    "\n",
    "# 使用日期和时间作为模型的保存名\n",
    "model_save_path = f\"./model_{timestamp}\"\n",
    "model.save_pretrained(model_save_path)\n",
    "tokenizer.save_pretrained(model_save_path)\n",
    "\n",
    "print(f\"Model saved to {model_save_path}\")"
   ]
  },
  {
   "cell_type": "markdown",
   "metadata": {},
   "source": [
    "## 评估模型"
   ]
  },
  {
   "cell_type": "code",
   "execution_count": 1,
   "metadata": {
    "ExecuteTime": {
     "end_time": "2023-09-20T16:15:06.537724Z",
     "start_time": "2023-09-20T16:15:06.533587Z"
    }
   },
   "outputs": [],
   "source": [
    "from transformers import BertForSequenceClassification, BertTokenizer\n",
    "import torch"
   ]
  },
  {
   "cell_type": "code",
   "execution_count": 2,
   "metadata": {
    "ExecuteTime": {
     "end_time": "2023-09-20T16:15:07.718292Z",
     "start_time": "2023-09-20T16:15:07.031367Z"
    }
   },
   "outputs": [],
   "source": [
    "# 加载模型\n",
    "model_save_path = \"./model_20230915_145716\"\n",
    "model = BertForSequenceClassification.from_pretrained(model_save_path)\n",
    "tokenizer = BertTokenizer.from_pretrained(model_save_path)"
   ]
  },
  {
   "cell_type": "code",
   "execution_count": 3,
   "metadata": {
    "ExecuteTime": {
     "end_time": "2023-09-20T16:15:09.137873Z",
     "start_time": "2023-09-20T16:15:09.130624Z"
    }
   },
   "outputs": [
    {
     "name": "stdout",
     "output_type": "stream",
     "text": [
      "{0: '升学', 1: '志愿', 2: '教务', 3: '思政', 4: '心理', 5: '灾害', 6: '作业与考试', 7: '竞赛与机会', 8: '企业参观与就业', 9: '生活', 10: '重要通知', 11: '垃圾与乐子'}\n"
     ]
    }
   ],
   "source": [
    "label_to_id = {\n",
    "    \"升学\": 0,\n",
    "    \"志愿\": 1,\n",
    "    \"教务\": 2,\n",
    "    \"思政\": 3,\n",
    "    \"心理\": 4,\n",
    "    \"灾害\": 5,\n",
    "    \"作业与考试\": 6,\n",
    "    \"竞赛与机会\": 7,\n",
    "    \"企业参观与就业\": 8,\n",
    "    \"生活\": 9,\n",
    "    \"重要通知\": 10,\n",
    "    \"垃圾与乐子\": 11,\n",
    "}\n",
    "\n",
    "# 将label_to_id进行反转\n",
    "id_to_label = {value: key for key, value in label_to_id.items()}\n",
    "print(id_to_label)"
   ]
  },
  {
   "cell_type": "code",
   "execution_count": 4,
   "metadata": {
    "ExecuteTime": {
     "end_time": "2023-09-20T16:15:10.791491Z",
     "start_time": "2023-09-20T16:15:10.783253Z"
    }
   },
   "outputs": [],
   "source": [
    "def predict_label(text, model, tokenizer, id_to_label):\n",
    "    # 对文本进行编码\n",
    "    inputs = tokenizer(\n",
    "        text, return_tensors=\"pt\", truncation=True, padding=\"max_length\", max_length=128\n",
    "    )\n",
    "\n",
    "    # 将输入移到模型所在的设备上\n",
    "    inputs = {key: val.to(model.device) for key, val in inputs.items()}\n",
    "\n",
    "    # 使用模型进行预测\n",
    "    with torch.no_grad():\n",
    "        outputs = model(**inputs)\n",
    "        logits = outputs.logits\n",
    "        predicted_label_id = logits.argmax(-1).item()\n",
    "\n",
    "    # 获取预测的类别名\n",
    "    predicted_label = id_to_label[predicted_label_id]\n",
    "\n",
    "    return predicted_label"
   ]
  },
  {
   "cell_type": "code",
   "execution_count": 5,
   "metadata": {
    "ExecuteTime": {
     "end_time": "2023-09-20T16:15:12.283039Z",
     "start_time": "2023-09-20T16:15:12.183425Z"
    }
   },
   "outputs": [
    {
     "name": "stdout",
     "output_type": "stream",
     "text": [
      "The predicted label for the text is: 竞赛与机会\n"
     ]
    }
   ],
   "source": [
    "# 使用这个函数\n",
    "text = \"【第九届中国国际“互联网+”大学生创新创业大赛】 《教育部关于举办第九届中国国际“互联网+”大学生创新创业大赛的通知》已发（[https://mp.weixin.qq.com/s/0j9OTd3Iv4uyqNhW9e6MRA），鼓励同学们积极报名，筹备比赛项目，具体学院比赛报名截止时间待校区和省教育厅通知后另行发布，谢谢大家。](https://mp.weixin.qq.com/s/0j9OTd3Iv4uyqNhW9e6MRA），请大家把此通知转发给同学们，鼓励同学们积极报名，筹备比赛项目，具体学院比赛报名截止时间待校区和省教育厅通知后另行发布，谢谢大家。)（咱们学校很多课程项目都可以拿到省赛铜奖，请大家积极报名） 此比赛也请大家积极挖掘自己的大一立项、大创国创项目、课程项目等。积极报名@所有人\"\n",
    "predicted_label = predict_label(text, model, tokenizer, id_to_label)\n",
    "print(f\"The predicted label for the text is: {predicted_label}\")"
   ]
  },
  {
   "cell_type": "code",
   "execution_count": null,
   "metadata": {
    "ExecuteTime": {
     "start_time": "2023-09-20T02:36:38.261275Z"
    }
   },
   "outputs": [],
   "source": []
  }
 ],
 "metadata": {
  "kernelspec": {
   "display_name": "Python 3 (ipykernel)",
   "language": "python",
   "name": "python3"
  },
  "language_info": {
   "codemirror_mode": {
    "name": "ipython",
    "version": 3
   },
   "file_extension": ".py",
   "mimetype": "text/x-python",
   "name": "python",
   "nbconvert_exporter": "python",
   "pygments_lexer": "ipython3",
   "version": "3.11.5"
  }
 },
 "nbformat": 4,
 "nbformat_minor": 4
}
