{
 "cells": [
  {
   "cell_type": "code",
   "execution_count": 6,
   "metadata": {
    "ExecuteTime": {
     "end_time": "2023-09-29T04:37:49.661437Z",
     "start_time": "2023-09-29T04:37:49.649479Z"
    },
    "collapsed": false
   },
   "outputs": [],
   "source": [
    "# %pip install datasets\n",
    "# %pip install accelerate -U"
   ]
  },
  {
   "cell_type": "markdown",
   "metadata": {},
   "source": [
    "# 文本分类"
   ]
  },
  {
   "cell_type": "code",
   "execution_count": 4,
   "metadata": {
    "ExecuteTime": {
     "end_time": "2023-09-29T04:37:51.021199Z",
     "start_time": "2023-09-29T04:37:49.654607Z"
    }
   },
   "outputs": [],
   "source": [
    "from transformers import BertForSequenceClassification\n",
    "from transformers import BertTokenizer\n",
    "import torch"
   ]
  },
  {
   "cell_type": "code",
   "execution_count": 5,
   "metadata": {
    "ExecuteTime": {
     "end_time": "2023-09-29T04:37:52.740629Z",
     "start_time": "2023-09-29T04:37:52.605693Z"
    }
   },
   "outputs": [],
   "source": [
    "# !source /etc/network_turbo"
   ]
  },
  {
   "cell_type": "code",
   "execution_count": 6,
   "metadata": {
    "ExecuteTime": {
     "end_time": "2023-09-29T04:40:05.431607Z",
     "start_time": "2023-09-29T04:40:04.092878Z"
    }
   },
   "outputs": [
    {
     "name": "stderr",
     "output_type": "stream",
     "text": [
      "vocab.txt: 100%|██████████| 110k/110k [00:00<00:00, 148kB/s]\n",
      "config.json: 100%|██████████| 785/785 [00:00<00:00, 1.50MB/s]\n",
      "pytorch_model.bin: 100%|██████████| 409M/409M [09:23<00:00, 726kB/s]  \n"
     ]
    }
   ],
   "source": [
    "model_name = 'IDEA-CCNL/Erlangshen-Roberta-110M-Sentiment'\n",
    "tokenizer = BertTokenizer.from_pretrained(model_name)\n",
    "model = BertForSequenceClassification.from_pretrained(model_name)  # 预训练模型"
   ]
  },
  {
   "cell_type": "code",
   "execution_count": 7,
   "metadata": {
    "ExecuteTime": {
     "end_time": "2023-09-29T04:40:07.219345Z",
     "start_time": "2023-09-29T04:40:07.130504Z"
    }
   },
   "outputs": [
    {
     "name": "stdout",
     "output_type": "stream",
     "text": [
      "tensor([[0.0645, 0.9355]], grad_fn=<SoftmaxBackward0>)\n"
     ]
    }
   ],
   "source": [
    "texta = '鲸鱼是哺乳动物，所有哺乳动物都是恒温动物'\n",
    "textb = '鲸鱼也是恒温动物'\n",
    "output = model(torch.tensor([tokenizer.encode(texta, textb)]))\n",
    "print(torch.nn.functional.softmax(output.logits, dim=-1))  # 测试一下"
   ]
  },
  {
   "cell_type": "markdown",
   "metadata": {},
   "source": [
    "准备数据集"
   ]
  },
  {
   "cell_type": "code",
   "execution_count": 8,
   "metadata": {
    "ExecuteTime": {
     "end_time": "2023-09-29T04:40:08.954163Z",
     "start_time": "2023-09-29T04:40:08.477263Z"
    }
   },
   "outputs": [],
   "source": [
    "from datasets import load_dataset, Features, Value"
   ]
  },
  {
   "cell_type": "code",
   "execution_count": 9,
   "metadata": {
    "ExecuteTime": {
     "end_time": "2023-09-29T04:40:10.012795Z",
     "start_time": "2023-09-29T04:40:10.007254Z"
    }
   },
   "outputs": [
    {
     "name": "stdout",
     "output_type": "stream",
     "text": [
      "{0: '升学', 1: '志愿', 2: '教务', 3: '思政', 4: '心理', 5: '灾害', 6: '作业与考试', 7: '竞赛与机会', 8: '企业参观与就业', 9: '生活', 10: '重要通知', 11: '垃圾与乐子'}\n"
     ]
    }
   ],
   "source": [
    "label_to_id = {  # 分类\n",
    "    \"升学\": 0,\n",
    "    \"志愿\": 1,\n",
    "    \"教务\": 2,\n",
    "    \"思政\": 3,\n",
    "    \"心理\": 4,\n",
    "    \"灾害\": 5,\n",
    "    \"作业与考试\": 6,\n",
    "    \"竞赛与机会\": 7,\n",
    "    \"企业参观与就业\": 8,\n",
    "    \"生活\": 9,\n",
    "    \"重要通知\": 10,\n",
    "    \"垃圾与乐子\": 11,\n",
    "}\n",
    "\n",
    "# 将label_to_id进行反转\n",
    "id_to_label = {value: key for key, value in label_to_id.items()}\n",
    "print(id_to_label)"
   ]
  },
  {
   "cell_type": "code",
   "execution_count": 10,
   "metadata": {
    "ExecuteTime": {
     "end_time": "2023-09-29T04:40:12.247127Z",
     "start_time": "2023-09-29T04:40:10.853708Z"
    }
   },
   "outputs": [
    {
     "name": "stderr",
     "output_type": "stream",
     "text": [
      "Downloading data files: 100%|██████████| 1/1 [00:00<00:00, 13573.80it/s]\n",
      "Extracting data files: 100%|██████████| 1/1 [00:00<00:00, 1846.08it/s]\n",
      "Generating train split: 307 examples [00:00, 55737.66 examples/s]"
     ]
    },
    {
     "name": "stdout",
     "output_type": "stream",
     "text": [
      "DatasetDict({\n",
      "    train: Dataset({\n",
      "        features: ['类别', '通知内容'],\n",
      "        num_rows: 307\n",
      "    })\n",
      "})\n"
     ]
    },
    {
     "name": "stderr",
     "output_type": "stream",
     "text": [
      "\n"
     ]
    }
   ],
   "source": [
    "# 明确地定义CSV数据的特征描述\n",
    "features = Features({\n",
    "    '类别': Value('string'),\n",
    "    '通知内容': Value('string')\n",
    "})\n",
    "\n",
    "# 使用提供的特征描述加载数据集\n",
    "dataset = load_dataset('csv', data_files='../data/combined_data.csv', features=features)\n",
    "\n",
    "# 预览数据集\n",
    "print(dataset)"
   ]
  },
  {
   "cell_type": "code",
   "execution_count": 11,
   "metadata": {
    "ExecuteTime": {
     "end_time": "2023-09-20T16:12:49.281641Z",
     "start_time": "2023-09-20T16:12:49.194798Z"
    }
   },
   "outputs": [
    {
     "name": "stderr",
     "output_type": "stream",
     "text": [
      "Map: 100%|██████████| 307/307 [00:00<00:00, 1056.04 examples/s]\n"
     ]
    }
   ],
   "source": [
    "def preprocess_function(batch):\n",
    "    # 对通知内容进行分词，并返回结果\n",
    "    encoding = tokenizer(batch['通知内容'], truncation=True, padding='max_length', max_length=128)  # 分词，截断，填充\n",
    "    encoding[\"labels\"] = [label_to_id[label] for label in batch[\"类别\"]]  # 使用label_to_id将类别名转换为ID\n",
    "    return encoding\n",
    "\n",
    "\n",
    "# 使用map函数进行预处理\n",
    "encoded_dataset = dataset['train'].map(preprocess_function, batched=True).train_test_split(test_size=0.05)\n",
    "\n",
    "train_dataset = encoded_dataset['train']\n",
    "test_dataset = encoded_dataset['test']"
   ]
  },
  {
   "cell_type": "code",
   "execution_count": 12,
   "metadata": {
    "ExecuteTime": {
     "end_time": "2023-09-20T16:12:51.807481Z",
     "start_time": "2023-09-20T16:12:51.801819Z"
    }
   },
   "outputs": [
    {
     "name": "stdout",
     "output_type": "stream",
     "text": [
      "291\n",
      "16\n",
      "{'类别': '竞赛与机会', '通知内容': '@所有人 HAI（高性能人工智能）课题组招聘本科项目实习生，主要工作内容为利用自动机器学习技术搜索优化用于双目视觉和三维重建任务的深度学习网络模型，并部署在多种应用场景（云GPU，消费级GPU和边缘设备），效果显著的前提下可以发表学术论文。项目会根据同学的具体工作量发放酬劳。课题组氛围好，项目导师亲自指导项目实践，要求进项目组的同学具备一定编程能力，认真负责，主动积极学习，对三维视觉和人工智能领域有浓厚的兴趣。 项目导师：王强（http://faculty.hitsz.edu.cn/wangqiang） 联系方式：[qiang.wang@hit.edu.cn](mailto:qiang.wang@hit.edu.cn)', 'input_ids': [101, 137, 2792, 3300, 782, 11643, 8169, 8020, 7770, 2595, 5543, 782, 2339, 3255, 5543, 8021, 6440, 7579, 5299, 2875, 5470, 3315, 4906, 7555, 4680, 2141, 739, 4495, 8024, 712, 6206, 2339, 868, 1079, 2159, 711, 1164, 4500, 5632, 1220, 3322, 1690, 2110, 739, 2825, 3318, 3017, 5164, 831, 1265, 4500, 754, 1352, 4680, 6228, 6230, 1469, 676, 5335, 7028, 2456, 818, 1218, 4638, 3918, 2428, 2110, 739, 5381, 5317, 3563, 1798, 8024, 2400, 6956, 5392, 1762, 1914, 4905, 2418, 4500, 1767, 3250, 8020, 756, 9483, 8024, 3867, 6589, 5277, 9483, 1469, 6804, 5357, 6392, 1906, 8021, 8024, 3126, 3362, 3227, 5865, 4638, 1184, 2990, 678, 1377, 809, 1355, 6134, 2110, 3318, 6389, 3152, 511, 7555, 4680, 833, 3418, 2945, 1398, 2110, 4638, 1072, 860, 2339, 868, 102], 'token_type_ids': [0, 0, 0, 0, 0, 0, 0, 0, 0, 0, 0, 0, 0, 0, 0, 0, 0, 0, 0, 0, 0, 0, 0, 0, 0, 0, 0, 0, 0, 0, 0, 0, 0, 0, 0, 0, 0, 0, 0, 0, 0, 0, 0, 0, 0, 0, 0, 0, 0, 0, 0, 0, 0, 0, 0, 0, 0, 0, 0, 0, 0, 0, 0, 0, 0, 0, 0, 0, 0, 0, 0, 0, 0, 0, 0, 0, 0, 0, 0, 0, 0, 0, 0, 0, 0, 0, 0, 0, 0, 0, 0, 0, 0, 0, 0, 0, 0, 0, 0, 0, 0, 0, 0, 0, 0, 0, 0, 0, 0, 0, 0, 0, 0, 0, 0, 0, 0, 0, 0, 0, 0, 0, 0, 0, 0, 0, 0, 0], 'attention_mask': [1, 1, 1, 1, 1, 1, 1, 1, 1, 1, 1, 1, 1, 1, 1, 1, 1, 1, 1, 1, 1, 1, 1, 1, 1, 1, 1, 1, 1, 1, 1, 1, 1, 1, 1, 1, 1, 1, 1, 1, 1, 1, 1, 1, 1, 1, 1, 1, 1, 1, 1, 1, 1, 1, 1, 1, 1, 1, 1, 1, 1, 1, 1, 1, 1, 1, 1, 1, 1, 1, 1, 1, 1, 1, 1, 1, 1, 1, 1, 1, 1, 1, 1, 1, 1, 1, 1, 1, 1, 1, 1, 1, 1, 1, 1, 1, 1, 1, 1, 1, 1, 1, 1, 1, 1, 1, 1, 1, 1, 1, 1, 1, 1, 1, 1, 1, 1, 1, 1, 1, 1, 1, 1, 1, 1, 1, 1, 1], 'labels': 7}\n"
     ]
    }
   ],
   "source": [
    "# 输出训练集和测试集的大小\n",
    "print(len(train_dataset))\n",
    "print(len(test_dataset))\n",
    "\n",
    "# 打印第一个样本的内容，带换行符\n",
    "print(train_dataset[0])\n",
    "# 输出：\n",
    "# {'类别': '生活', '通知内容': '各位同学@所有人 今天晚上收到多名同学反馈在教学楼、活动中心和宿舍楼附近发现卖笔的人员，请大家不要轻信和购买，保护好自身财产安全', 'input_ids': [101, 1392, 855, 1398, 2110, 137, 2792, 3300, 782, 791, 1921, 3241, 677, 3119, 1168, 1914, 1399, 1398, 2110, 1353, 7668, 1762, 3136, 2110, 3517, 510, 3833, 1220, 704, 2552, 1469, 2162, 5650, 3517, 7353, 6818, 1355, 4385, 1297, 5011, 4638, 782, 1447, 8024, 6435, 1920, 2157, 679, 6206, 6768, 928, 1469, 6579, 743, 8024, 924, 2844, 1962, 5632, 6716, 6568, 772, 2128, 1059, 102, 0, 0, 0, 0, 0, 0, 0, 0, 0, 0, 0, 0, 0, 0, 0, 0, 0, 0, 0, 0, 0, 0, 0, 0, 0, 0, 0, 0, 0, 0, 0, 0, 0, 0, 0, 0, 0, 0, 0, 0, 0, 0, 0, 0, 0, 0, 0, 0, 0, 0, 0, 0, 0, 0, 0, 0, 0, 0, 0, 0, 0, 0, 0], 'token_type_ids': [0, 0, 0, 0, 0, 0, 0, 0, 0, 0, 0, 0, 0, 0, 0, 0, 0, 0, 0, 0, 0, 0, 0, 0, 0, 0, 0, 0, 0, 0, 0, 0, 0, 0, 0, 0, 0, 0, 0, 0, 0, 0, 0, 0, 0, 0, 0, 0, 0, 0, 0, 0, 0, 0, 0, 0, 0, 0, 0, 0, 0, 0, 0, 0, 0, 0, 0, 0, 0, 0, 0, 0, 0, 0, 0, 0, 0, 0, 0, 0, 0, 0, 0, 0, 0, 0, 0, 0, 0, 0, 0, 0, 0, 0, 0, 0, 0, 0, 0, 0, 0, 0, 0, 0, 0, 0, 0, 0, 0, 0, 0, 0, 0, 0, 0, 0, 0, 0, 0, 0, 0, 0, 0, 0, 0, 0, 0, 0], 'attention_mask': [1, 1, 1, 1, 1, 1, 1, 1, 1, 1, 1, 1, 1, 1, 1, 1, 1, 1, 1, 1, 1, 1, 1, 1, 1, 1, 1, 1, 1, 1, 1, 1, 1, 1, 1, 1, 1, 1, 1, 1, 1, 1, 1, 1, 1, 1, 1, 1, 1, 1, 1, 1, 1, 1, 1, 1, 1, 1, 1, 1, 1, 1, 1, 1, 1, 0, 0, 0, 0, 0, 0, 0, 0, 0, 0, 0, 0, 0, 0, 0, 0, 0, 0, 0, 0, 0, 0, 0, 0, 0, 0, 0, 0, 0, 0, 0, 0, 0, 0, 0, 0, 0, 0, 0, 0, 0, 0, 0, 0, 0, 0, 0, 0, 0, 0, 0, 0, 0, 0, 0, 0, 0, 0, 0, 0, 0, 0, 0], 'labels': 9}"
   ]
  },
  {
   "cell_type": "markdown",
   "metadata": {},
   "source": [
    "模型训练"
   ]
  },
  {
   "cell_type": "code",
   "execution_count": 13,
   "metadata": {
    "ExecuteTime": {
     "end_time": "2023-09-20T16:12:55.566104Z",
     "start_time": "2023-09-20T16:12:54.725490Z"
    }
   },
   "outputs": [
    {
     "name": "stderr",
     "output_type": "stream",
     "text": [
      "Some weights of BertForSequenceClassification were not initialized from the model checkpoint at IDEA-CCNL/Erlangshen-Roberta-110M-Sentiment and are newly initialized because the shapes did not match:\n",
      "- classifier.weight: found shape torch.Size([2, 768]) in the checkpoint and torch.Size([12, 768]) in the model instantiated\n",
      "- classifier.bias: found shape torch.Size([2]) in the checkpoint and torch.Size([12]) in the model instantiated\n",
      "You should probably TRAIN this model on a down-stream task to be able to use it for predictions and inference.\n"
     ]
    },
    {
     "name": "stdout",
     "output_type": "stream",
     "text": [
      "Linear(in_features=768, out_features=12, bias=True)\n"
     ]
    }
   ],
   "source": [
    "# 修改模型输出\n",
    "num_labels = len(label_to_id)\n",
    "model = BertForSequenceClassification.from_pretrained(model_name, num_labels=num_labels, ignore_mismatched_sizes=True)\n",
    "\n",
    "# 打印模型的最后一层，验证是12分类\n",
    "print(model.classifier)"
   ]
  },
  {
   "cell_type": "code",
   "execution_count": 14,
   "metadata": {
    "ExecuteTime": {
     "end_time": "2023-09-20T16:12:58.362692Z",
     "start_time": "2023-09-20T16:12:57.907642Z"
    }
   },
   "outputs": [],
   "source": [
    "from transformers import Trainer, TrainingArguments\n",
    "\n",
    "# 定义训练参数\n",
    "training_args = TrainingArguments(\n",
    "    output_dir='./results',\n",
    "    evaluation_strategy=\"steps\",\n",
    "    eval_steps=10,\n",
    "    per_device_train_batch_size=64,\n",
    "    per_device_eval_batch_size=128,\n",
    "    num_train_epochs=3,\n",
    "    save_steps=50,\n",
    "    logging_steps=20,\n",
    "    learning_rate=2e-5,\n",
    "    weight_decay=0.01,\n",
    "    logging_dir='./logs',\n",
    "    load_best_model_at_end=True,\n",
    ")\n",
    "\n",
    "# 创建Trainer对象\n",
    "trainer = Trainer(\n",
    "    model=model,\n",
    "    args=training_args,\n",
    "    train_dataset=train_dataset,\n",
    "    eval_dataset=test_dataset,\n",
    "    compute_metrics=None,  # 如果你需要在验证时计算评估指标，请提供一个compute_metrics函数\n",
    ")"
   ]
  },
  {
   "cell_type": "code",
   "execution_count": 15,
   "metadata": {
    "ExecuteTime": {
     "end_time": "2023-09-20T16:14:39.653244Z",
     "start_time": "2023-09-20T16:12:59.979810Z"
    }
   },
   "outputs": [
    {
     "name": "stderr",
     "output_type": "stream",
     "text": [
      " 13%|█▎        | 2/15 [00:15<01:42,  7.91s/it]"
     ]
    }
   ],
   "source": [
    "# 开始训练\n",
    "trainer.train()"
   ]
  },
  {
   "cell_type": "code",
   "execution_count": null,
   "metadata": {
    "ExecuteTime": {
     "end_time": "2023-09-20T16:14:43.710978Z",
     "start_time": "2023-09-20T16:14:43.705203Z"
    }
   },
   "outputs": [
    {
     "data": {
      "text/plain": [
       "<bound method log_metrics of <transformers.trainer.Trainer object at 0x2d08dd610>>"
      ]
     },
     "execution_count": 14,
     "metadata": {},
     "output_type": "execute_result"
    }
   ],
   "source": [
    "# 查看训练结果\n",
    "trainer.log_metrics"
   ]
  },
  {
   "cell_type": "code",
   "execution_count": null,
   "metadata": {
    "ExecuteTime": {
     "end_time": "2023-09-20T16:15:03.849110Z",
     "start_time": "2023-09-20T16:15:03.798745Z"
    }
   },
   "outputs": [
    {
     "data": {
      "image/png": "[encoded data removed]",
      "text/plain": [
       "<Figure size 640x480 with 1 Axes>"
      ]
     },
     "metadata": {},
     "output_type": "display_data"
    }
   ],
   "source": [
    "import matplotlib.pyplot as plt\n",
    "\n",
    "# 获取训练的历史\n",
    "history = trainer.state.log_history\n",
    "\n",
    "# 提取损失值\n",
    "loss_values = [entry['loss'] for entry in history if 'loss' in entry]\n",
    "\n",
    "# 绘制损失曲线\n",
    "plt.plot(loss_values)\n",
    "plt.title('Training Loss')\n",
    "plt.xlabel('Logging Steps')\n",
    "plt.ylabel('Loss')\n",
    "plt.show()"
   ]
  },
  {
   "cell_type": "code",
   "execution_count": null,
   "metadata": {
    "ExecuteTime": {
     "end_time": "2023-09-20T16:15:05.080975Z",
     "start_time": "2023-09-20T16:15:04.432845Z"
    }
   },
   "outputs": [
    {
     "name": "stdout",
     "output_type": "stream",
     "text": [
      "Model saved to ./model_20230921_001504\n"
     ]
    }
   ],
   "source": [
    "# 按日期时间保存模型\n",
    "from datetime import datetime\n",
    "\n",
    "# 获取当前日期和时间\n",
    "now = datetime.now()\n",
    "timestamp = now.strftime(\"%Y%m%d_%H%M%S\")\n",
    "\n",
    "# 使用日期和时间作为模型的保存名\n",
    "model_save_path = f\"./model_{timestamp}\"\n",
    "model.save_pretrained(model_save_path)\n",
    "tokenizer.save_pretrained(model_save_path)\n",
    "\n",
    "print(f\"Model saved to {model_save_path}\")"
   ]
  },
  {
   "cell_type": "markdown",
   "metadata": {},
   "source": [
    "## 评估模型"
   ]
  },
  {
   "cell_type": "code",
   "execution_count": null,
   "metadata": {
    "ExecuteTime": {
     "end_time": "2023-09-20T16:15:06.537724Z",
     "start_time": "2023-09-20T16:15:06.533587Z"
    }
   },
   "outputs": [],
   "source": [
    "from transformers import BertForSequenceClassification, BertTokenizer\n",
    "import torch"
   ]
  },
  {
   "cell_type": "code",
   "execution_count": null,
   "metadata": {
    "ExecuteTime": {
     "end_time": "2023-09-20T16:15:07.718292Z",
     "start_time": "2023-09-20T16:15:07.031367Z"
    }
   },
   "outputs": [],
   "source": [
    "# 加载模型\n",
    "model_save_path = './model_20230915_145716'\n",
    "model = BertForSequenceClassification.from_pretrained(model_save_path)\n",
    "tokenizer = BertTokenizer.from_pretrained(model_save_path)"
   ]
  },
  {
   "cell_type": "code",
   "execution_count": null,
   "metadata": {
    "ExecuteTime": {
     "end_time": "2023-09-20T16:15:09.137873Z",
     "start_time": "2023-09-20T16:15:09.130624Z"
    }
   },
   "outputs": [
    {
     "name": "stdout",
     "output_type": "stream",
     "text": [
      "{0: '升学', 1: '志愿', 2: '教务', 3: '思政', 4: '心理', 5: '灾害', 6: '作业与考试', 7: '竞赛与机会', 8: '企业参观与就业', 9: '生活', 10: '重要通知', 11: '垃圾与乐子'}\n"
     ]
    }
   ],
   "source": [
    "label_to_id = {\n",
    "    \"升学\": 0,\n",
    "    \"志愿\": 1,\n",
    "    \"教务\": 2,\n",
    "    \"思政\": 3,\n",
    "    \"心理\": 4,\n",
    "    \"灾害\": 5,\n",
    "    \"作业与考试\": 6,\n",
    "    \"竞赛与机会\": 7,\n",
    "    \"企业参观与就业\": 8,\n",
    "    \"生活\": 9,\n",
    "    \"重要通知\": 10,\n",
    "    \"垃圾与乐子\": 11,\n",
    "}\n",
    "\n",
    "# 将label_to_id进行反转\n",
    "id_to_label = {value: key for key, value in label_to_id.items()}\n",
    "print(id_to_label)"
   ]
  },
  {
   "cell_type": "code",
   "execution_count": null,
   "metadata": {
    "ExecuteTime": {
     "end_time": "2023-09-20T16:15:10.791491Z",
     "start_time": "2023-09-20T16:15:10.783253Z"
    }
   },
   "outputs": [],
   "source": [
    "def predict_label(text, model, tokenizer, id_to_label):\n",
    "    # 对文本进行编码\n",
    "    inputs = tokenizer(text, return_tensors=\"pt\", truncation=True, padding='max_length', max_length=128)\n",
    "\n",
    "    # 将输入移到模型所在的设备上\n",
    "    inputs = {key: val.to(model.device) for key, val in inputs.items()}\n",
    "\n",
    "    # 使用模型进行预测\n",
    "    with torch.no_grad():\n",
    "        outputs = model(**inputs)\n",
    "        logits = outputs.logits\n",
    "        predicted_label_id = logits.argmax(-1).item()\n",
    "\n",
    "    # 获取预测的类别名\n",
    "    predicted_label = id_to_label[predicted_label_id]\n",
    "\n",
    "    return predicted_label"
   ]
  },
  {
   "cell_type": "code",
   "execution_count": null,
   "metadata": {
    "ExecuteTime": {
     "end_time": "2023-09-20T16:15:12.283039Z",
     "start_time": "2023-09-20T16:15:12.183425Z"
    }
   },
   "outputs": [
    {
     "name": "stdout",
     "output_type": "stream",
     "text": [
      "The predicted label for the text is: 竞赛与机会\n"
     ]
    }
   ],
   "source": [
    "# 使用这个函数\n",
    "text = \"【第九届中国国际“互联网+”大学生创新创业大赛】 《教育部关于举办第九届中国国际“互联网+”大学生创新创业大赛的通知》已发（[https://mp.weixin.qq.com/s/0j9OTd3Iv4uyqNhW9e6MRA），鼓励同学们积极报名，筹备比赛项目，具体学院比赛报名截止时间待校区和省教育厅通知后另行发布，谢谢大家。](https://mp.weixin.qq.com/s/0j9OTd3Iv4uyqNhW9e6MRA），请大家把此通知转发给同学们，鼓励同学们积极报名，筹备比赛项目，具体学院比赛报名截止时间待校区和省教育厅通知后另行发布，谢谢大家。)（咱们学校很多课程项目都可以拿到省赛铜奖，请大家积极报名） 此比赛也请大家积极挖掘自己的大一立项、大创国创项目、课程项目等。积极报名@所有人\"\n",
    "predicted_label = predict_label(text, model, tokenizer, id_to_label)\n",
    "print(f\"The predicted label for the text is: {predicted_label}\")\n"
   ]
  },
  {
   "cell_type": "code",
   "execution_count": null,
   "metadata": {
    "ExecuteTime": {
     "start_time": "2023-09-20T02:36:38.261275Z"
    }
   },
   "outputs": [],
   "source": []
  },
  {
   "cell_type": "code",
   "execution_count": null,
   "metadata": {},
   "outputs": [],
   "source": []
  },
  {
   "cell_type": "code",
   "execution_count": null,
   "metadata": {},
   "outputs": [],
   "source": []
  },
  {
   "cell_type": "code",
   "execution_count": null,
   "metadata": {},
   "outputs": [],
   "source": []
  }
 ],
 "metadata": {
  "kernelspec": {
   "display_name": "Python 3 (ipykernel)",
   "language": "python",
   "name": "python3"
  },
  "language_info": {
   "codemirror_mode": {
    "name": "ipython",
    "version": 3
   },
   "file_extension": ".py",
   "mimetype": "text/x-python",
   "name": "python",
   "nbconvert_exporter": "python",
   "pygments_lexer": "ipython3",
   "version": "3.10.12"
  }
 },
 "nbformat": 4,
 "nbformat_minor": 4
}
