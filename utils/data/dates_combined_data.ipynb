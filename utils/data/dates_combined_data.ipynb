{
 "cells": [
  {
   "cell_type": "code",
   "execution_count": 89,
   "metadata": {},
   "outputs": [],
   "source": [
    "import re\n",
    "import csv"
   ]
  },
  {
   "cell_type": "code",
   "execution_count": 90,
   "metadata": {},
   "outputs": [],
   "source": [
    "def find_date(s, patterns):\n",
    "    for pattern in patterns:\n",
    "        date = re.search(pattern, s)\n",
    "        if date:\n",
    "            return date.group()\n",
    "    return None"
   ]
  },
  {
   "cell_type": "code",
   "execution_count": 91,
   "metadata": {},
   "outputs": [],
   "source": [
    "# 正则表达式列表，包括常见的日期格式\n",
    "patterns = [\n",
    "    r\"\\d{4}年\\d{1,2}月\\d{1,2}日\", # YYYY年MM月DD日\n",
    "]"
   ]
  },
  {
   "cell_type": "code",
   "execution_count": 92,
   "metadata": {},
   "outputs": [],
   "source": [
    "data = []\n",
    "file_path = './test.csv'\n",
    "file_path = './combined_data.csv'\n",
    "with open(file_path, 'r', encoding='utf-8') as file:\n",
    "    reader = csv.reader(file)\n",
    "    headers = next(reader)  # 读取标题行\n",
    "    data.append([headers[0], headers[1], \"日期\"])  # 添加新的列标题\n",
    "    \n",
    "    for row in reader:\n",
    "        if row and len(row) > 1:  # 确保行非空且至少有两列\n",
    "            date = find_date(row[1], patterns)\n",
    "            if date:\n",
    "                # date去除空格\n",
    "                date = date.replace(\" \", \"\")\n",
    "                data.append([row[0], row[1], date])\n",
    "            else:\n",
    "                data.append([row[0], row[1], \"\"])"
   ]
  },
  {
   "cell_type": "code",
   "execution_count": 93,
   "metadata": {},
   "outputs": [],
   "source": [
    "# 输出到新的CSV文件\n",
    "with open('./dates_combined_data.csv', 'w', encoding='utf-8', newline='') as file:\n",
    "    writer = csv.writer(file)\n",
    "    writer.writerows(data)"
   ]
  }
 ],
 "metadata": {
  "kernelspec": {
   "display_name": "bert",
   "language": "python",
   "name": "python3"
  },
  "language_info": {
   "codemirror_mode": {
    "name": "ipython",
    "version": 3
   },
   "file_extension": ".py",
   "mimetype": "text/x-python",
   "name": "python",
   "nbconvert_exporter": "python",
   "pygments_lexer": "ipython3",
   "version": "3.9.15"
  },
  "orig_nbformat": 4
 },
 "nbformat": 4,
 "nbformat_minor": 2
}
